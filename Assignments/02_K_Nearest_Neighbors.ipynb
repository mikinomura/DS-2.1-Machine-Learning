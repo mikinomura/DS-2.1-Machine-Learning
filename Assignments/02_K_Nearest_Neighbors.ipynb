{
 "cells": [
  {
   "cell_type": "markdown",
   "metadata": {},
   "source": [
    "<center><img src='img/ms_logo.jpeg' height=40% width=40%></center>\n",
    "\n",
    "<center><h1>Building a K-Nearest Neighbors Classifier</h1></center>\n",
    "<br>\n",
    "<br>\n",
    "In this tutorial, we'll build our very **_K-Nearest Neighbors_** classifier (KNN for short).  This tutorial will be different from other tutorials in this class in that, unlike most other tutorials where we focus only on using the classifier provided in the `sklearn` library, KNN is simple enough that we can also build one from scratch in this tutorial! We'll still use `sklearn` for things such as such as splitting our data into training and testing sets, and for _scaling_ our data (more on this later), but we'll build the actual algorithm ourselves to get a feel for how it all works!"
   ]
  },
  {
   "cell_type": "code",
   "execution_count": null,
   "metadata": {},
   "outputs": [],
   "source": [
    "import numpy as np\n",
    "np.random.seed(0)"
   ]
  },
  {
   "cell_type": "markdown",
   "metadata": {},
   "source": [
    "<center><h3>Understanding How KNN Works</h3></center>\n",
    "\n",
    "The KNN algorithm is a classic choice for classification in Machine Learning.  KNN works on the assumption that things that are \"near\" each other are more similar, and therefore more likely to be the same class.  Here's a brief explanation of how KNN actually works under the hood:\n",
    "\n",
    "1.  KNN stores all the data points and labels when `.fit()` is called.  No actual computation is done at this point. \n",
    "<br> \n",
    "<br>\n",
    "2.  When used for predicting the class of an array of objects, the user passes in an array of X_values and a value for K.   \n",
    "<br>\n",
    "3.  KNN calculates the Euclidean distance between the point in question and all other points it stored during the `.fit()` step.   \n",
    "<br> \n",
    "4.  KNN uses these Euclidean distance metrics to select the K nearest points, and looks at what class each is.  \n",
    "<br> \n",
    "5.  The algorithm predicts that the data point in question is whichever class most the majority of it's K nearest neighbors are.  For instance, if `K=5`, and 3 of the neighbors for `X[0]` are class A and 2 are class B, the algorithm will predict that `X[0]` is class A.   "
   ]
  },
  {
   "cell_type": "code",
   "execution_count": null,
   "metadata": {},
   "outputs": [],
   "source": [
    "# We'll use this method rather than use the Pythagorean theorem to calculate Euclidean distance manually.  \n",
    "from scipy.spatial import distance\n",
    "\n",
    "class KNN():\n",
    "    \n",
    "    def _euc(self, a, b):\n",
    "        '''Helper function that returns the Euclidean distance individual points a and b '''\n",
    "        return distance.euclidean(a, b)\n",
    "    \n",
    "    def _distance(self, x1, x2):\n",
    "        \"\"\" Calculates the l2 distance between two vectors of the same length.  Loops through each \n",
    "        corresponding row in the vectors and uses the _euc() helper method at each iteration to get the sum of \n",
    "        the distance between all corresponding rows in the two vectors.  \n",
    "        (x1[0] -> x2[0], x1[1] -> x2[1]...x1[n] -> x2[n])\"\"\"\n",
    "        distance = 0\n",
    "        for i in range(len(x1)):\n",
    "            distance += self._euc(x1[i], x2[i])\n",
    "        return distance\n",
    "    \n",
    "    def fit(self, X_train, y_train):\n",
    "        \"\"\"Stores values for X_train and y_train.\"\"\"\n",
    "        self.X_train = X_train\n",
    "        self.y_train = y_train\n",
    "        \n",
    "    def predict(self, X_test):\n",
    "        \"\"\"Predicts the label of the class for each row in X_test, based on the single closest point to each. \n",
    "        The way this is currently written, K is hardcoded to one so the user does not pass in a value for K when \n",
    "        calling it.\n",
    "        \n",
    "        TODO:  Modify this function and the function below so that the user can pass in a value for K, so that \n",
    "        the algorithm makes it's prediction based on the K nearest neighbors (rather than the single closest \n",
    "        neighbor as it is currently written.)  You will need to modify this function AND _closest() to \n",
    "        complete this task.\"\"\"\n",
    "        predicted_classes = []\n",
    "        for point in X_test:\n",
    "            predicted_classes.append(self._closest_label(point))\n",
    "        return predicted_classes\n",
    "        \n",
    "    def _closest(self, row):\n",
    "        \"\"\"Modify this function so that it takes a parameter, K, and retrieves the K closest points.  As is, this\n",
    "        function currently only retrieves the labels of the single closest point.  \"\"\"\n",
    "        \n",
    "        shortest_distance = self._distance(row, self.X_train[0])\n",
    "        for i in range(1, len(self.X_train)):\n",
    "            current_distance = self._distance(row, self.X_train[i])\n",
    "            index_of_closest = 0\n",
    "            # If this distance is shorter than the shortest distance, make it the new shortest distance.  \n",
    "            if current_distance < shortest_distance:\n",
    "                shortest_distance < current_distance\n",
    "                index_of_closest = i\n",
    "        return y_train[index_of_closest]\n",
    "    "
   ]
  },
  {
   "cell_type": "markdown",
   "metadata": {},
   "source": [
    "<center><h3>Data Preprocessing: Scaling the Data</h3></center>\n",
    "    \n",
    "One quirk of Machine Learning algorithms is that they often do poorly if the scales of the data differ from column to column.  This is especially true for KNN, since the main measure of similarity we're using is Euclidean distance.  For example, let's think about the titanic dataset.  In the age column, a distance of 30 units is a very big deal--this is essentially the distance between children (high survival rate) and adults (medium survival rate), as well as between adults and the elderly (low survival rate).  What about a distance of 30 units in another column, such as ticket price?  With tickets ranging from free to $500+, a difference of 30 units in this column has much less importance.  Herein lies the problem--if we don't scale each column, then the difference in age--which is very important--will likely be drowned out by a column with a much larger scale, such as ticket price.  \n",
    "\n",
    "The solution? **_Scale_** our data to a mean of 0 and a variance of 1.  Since you've already done this sort of data transformation in DS1, we won't spend much time on it here.  Instead, we'll just use the `StandardScaler` object from SKLearn.\n",
    "\n",
    "Here's how it works:\n",
    "\n",
    "1.  Create a `StandardScaler` object and store it in a variable.  \n",
    "2.  Pass in the data to be scaled using the `StandardScaler` object's `.fit()` method.  \n",
    "3.  Call the scaler's `.transform()` method on the data to be scaled (this should be the same data you passed in during the fit step) and store the result it returns in a variable.  You now data that is scaled for use in an algorithm such as KNN!"
   ]
  },
  {
   "cell_type": "code",
   "execution_count": null,
   "metadata": {},
   "outputs": [],
   "source": [
    "from sklearn.preprocessing import StandardScaler\n",
    "from sklearn.datasets import load_iris\n",
    "\n",
    "# use load_iris() to bind the data to the 'iris' variable. The iris object will contain the data in it's .data \n",
    "#attribute, and the labels for the data in it's .target attribute\n",
    "iris = None\n",
    "X_vals = None\n",
    "y_vals = None\n",
    "\n",
    "# Create a StandardScaler() Object. \n",
    "scaler = None\n",
    "\n",
    "# Call scaler.fit() on the X_vals that will be rescaled.\n",
    "\n",
    "# Bind the newly scaled X_vals to scaled_X_vals by calling scaler.transform() on X_vals.\n",
    "scaled_X_vals = None"
   ]
  },
  {
   "cell_type": "markdown",
   "metadata": {},
   "source": [
    "<center><h3>Using Our Classifier</h3></center>\n",
    "\n",
    "Now that we have created a KNN classifier of our own and scaled our data set, let's use it to make some predictions! \n",
    "\n",
    "Follow the instructions in the comments below to use your KNN classifier to make predictions for the data in X_test.  Once you're done with that, follow the instructions to import sklearn's KNN classifier and get some practice with it! Be sure to use the `accuracy_score` object from `sklearn` to check how well each did.  \n",
    "<br>\n",
    "**_Bonus Challenge:_** Try different values for K and see if you can find the optimal number of neighbors for the most accurate predictions on this data set!\n",
    "\n",
    "### NOTE: NEVER roll your own classifiers in the real world!\n",
    "\n",
    "In this notebook, we created our own KNN classifier to get a feel for how it works. This is great for learning purposes, but nothing you should ever use in production.  Don't build your own classifiers in the wild--it will almost certainly be worse than the highly optimized versions found in SciKit-Learn!"
   ]
  },
  {
   "cell_type": "code",
   "execution_count": null,
   "metadata": {},
   "outputs": [],
   "source": [
    "from sklearn.model_selection import train_test_split\n",
    "\n",
    "# TODO: Use train_test_split to split our scaled data into training and testing sets.  Use a test amount of .5.  \n",
    "\n",
    "#TODO: Create a KNN object using the class you wrote above.  Fit the data and use it to predict labels for X_test.  \n",
    "clf = None\n",
    "\n",
    "\n",
    "\n",
    "from sklearn.metrics import accuracy_score\n",
    "\n",
    "# TODO: Use the accuracy_score object to evaluate the quality of your KNN object's predictions. Try passing in different\n",
    "# values for K at prediction time and see which value does best!\n",
    "\n",
    "\n",
    "\n",
    "# TODO: Finally, get some practice with SKLearn's KNN Classifier.  Import the KNeighborsClassifier object from \n",
    "# sklearn.neighbors.  Fit the data to the object and use it to make predictions just as you did with your own KNN above. \n",
    "# Finally, use the accuracy_score object to measure the quality of this classifier's predictions. \n"
   ]
  },
  {
   "cell_type": "code",
   "execution_count": null,
   "metadata": {},
   "outputs": [],
   "source": []
  }
 ],
 "metadata": {
  "kernelspec": {
   "display_name": "Python [default]",
   "language": "python",
   "name": "python3"
  },
  "language_info": {
   "codemirror_mode": {
    "name": "ipython",
    "version": 3
   },
   "file_extension": ".py",
   "mimetype": "text/x-python",
   "name": "python",
   "nbconvert_exporter": "python",
   "pygments_lexer": "ipython3",
   "version": "3.5.4"
  }
 },
 "nbformat": 4,
 "nbformat_minor": 2
}
