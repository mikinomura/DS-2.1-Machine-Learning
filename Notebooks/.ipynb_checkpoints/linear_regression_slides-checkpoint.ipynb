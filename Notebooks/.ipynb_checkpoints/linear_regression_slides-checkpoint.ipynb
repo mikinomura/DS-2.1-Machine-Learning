{
 "cells": [
  {
   "cell_type": "markdown",
   "metadata": {
    "slideshow": {
     "slide_type": "slide"
    }
   },
   "source": [
    "## Linear Regression\n",
    "\n",
    "In regression, we are interested in predicting a scalar-valued target, such as the price of a stock.\n",
    "\n",
    "By linear, we mean that the target must be predicted as a linear function of the inputs."
   ]
  },
  {
   "cell_type": "markdown",
   "metadata": {
    "slideshow": {
     "slide_type": "slide"
    }
   },
   "source": [
    "## Simple Linear Regression \n",
    "\n",
    "<img src=\"Images/lreg_1.png\" width=\"600\" height=\"600\">\n",
    "\n",
    "\n",
    "What elements are present in the diagram?\n",
    "\n",
    "The black dots are the observed values of x and y.\n",
    "\n",
    "The blue line is our least squares line.\n",
    "\n",
    "The red lines are the residuals, which are the distances between the observed values and the least squares line.\n"
   ]
  },
  {
   "cell_type": "markdown",
   "metadata": {
    "slideshow": {
     "slide_type": "slide"
    }
   },
   "source": [
    "## Mathematical formulation for linear regression\n",
    "\n",
    "Linear regression is an approach for predicting a quantitative response using a feature or multiple features\n",
    "\n",
    "It takes this form:\n",
    "\n",
    "$y_i = \\beta_0 + \\beta_1 x_i+ \\epsilon_i$\n",
    "\n",
    "As we have $N$ sample, we can write it down in vector representation: \n",
    "\n",
    "${\\bf y} = \\beta_0 + \\beta_1 {\\bf x}+ {\\bf \\epsilon}$\n",
    "\n",
    "The goal:\n",
    "\n",
    "Obtain $\\beta_0$ and $\\beta_1$ from ${\\bf x}$ and ${\\bf y}$ such that we have the minimum error for $1/N \\sum_{i=1}^{N}(\n",
    "{\\hat y}_i - y_i)^2$ \n"
   ]
  },
  {
   "cell_type": "markdown",
   "metadata": {
    "slideshow": {
     "slide_type": "slide"
    }
   },
   "source": [
    "## Activity: Write a Python code to obtain the intercept and coefficient for a simple regression problem\n",
    "\n",
    "Task: for the given ${\\bf x}$ and ${\\bf y}$, obtain the $\\beta_0$ and $\\beta_1$. Plot the result\n",
    "\n",
    "Steps:\n",
    "\n",
    "1- `X = np.array([3.3,4.4,5.5,6.71,6.93,4.168,9.779,6.182,7.59,2.167,\n",
    "                         7.042,10.791,5.313,7.997,5.654,9.27,3.1])\n",
    "   Y = np.array([1.7,2.76,2.09,3.19,1.694,1.573,3.366,2.596,2.53,1.221,\n",
    "                         2.827,3.465,1.65,2.904,2.42,2.94,1.3])`\n",
    "                         \n",
    "2- Use numpy `np.polyfit` and `np.poly1d` to obtain the linear regression model coefficients\n",
    "\n",
    "3- Use sklearn `from sklearn.linear_model import LinearRegression` to obtain the linear regression model coefficients"
   ]
  },
  {
   "cell_type": "code",
   "execution_count": 7,
   "metadata": {
    "slideshow": {
     "slide_type": "slide"
    }
   },
   "outputs": [
    {
     "name": "stdout",
     "output_type": "stream",
     "text": [
      "[0.25163494 0.79880123]\n",
      " \n",
      "0.2516 x + 0.7988\n",
      "[ 2.167  3.1    3.3    4.168  4.4    5.313  5.5    5.654  6.182  6.71\n",
      "  6.93   7.042  7.59   7.997  9.27   9.779 10.791]\n"
     ]
    },
    {
     "data": {
      "image/png": "[encoded data removed]",
      "text/plain": [
       "<Figure size 432x288 with 1 Axes>"
      ]
     },
     "metadata": {},
     "output_type": "display_data"
    },
    {
     "name": "stdout",
     "output_type": "stream",
     "text": [
      "[[0.25163494]]\n",
      "[0.79880123]\n"
     ]
    }
   ],
   "source": [
    "import numpy as np\n",
    "import matplotlib.pyplot as plt\n",
    "from sklearn.linear_model import LinearRegression\n",
    "\n",
    "np.random.seed(seed=0)\n",
    "\n",
    "X = np.array([3.3,4.4,5.5,6.71,6.93,4.168,9.779,6.182,7.59,2.167,\n",
    "                         7.042,10.791,5.313,7.997,5.654,9.27,3.1])\n",
    "Y = np.array([1.7,2.76,2.09,3.19,1.694,1.573,3.366,2.596,2.53,1.221,\n",
    "                         2.827,3.465,1.65,2.904,2.42,2.94,1.3]) \n",
    "\n",
    "plt.scatter(X, Y)\n",
    "print(np.polyfit(X, Y, 1))\n",
    "print(np.poly1d(np.polyfit(X, Y, 1)))\n",
    "print(np.unique(X))\n",
    "plt.plot(np.unique(X), np.poly1d(np.polyfit(X, Y, 1))(np.unique(X)), color='red', linewidth=5)\n",
    "plt.show()\n",
    "\n",
    "reg = LinearRegression().fit(X.reshape(-1, 1), Y.reshape(-1, 1))\n",
    "\n",
    "print(reg.coef_)\n",
    "\n",
    "print(reg.intercept_)\n",
    "\n"
   ]
  },
  {
   "cell_type": "markdown",
   "metadata": {
    "slideshow": {
     "slide_type": "slide"
    }
   },
   "source": [
    "## Multiple Linear Regression\n",
    "\n",
    "This approach and model can be extended to muliple features\n",
    "\n",
    "${\\bf y} = \\beta_0 + \\beta_1 {\\bf x}_1+ \\beta_1 {\\bf x}_2 + ... + {\\bf \\epsilon}$\n",
    "\n",
    "Read: https://github.com/justmarkham/DAT4/blob/master/notebooks/08_linear_regression.ipynb"
   ]
  },
  {
   "cell_type": "markdown",
   "metadata": {
    "slideshow": {
     "slide_type": "slide"
    }
   },
   "source": [
    "## Activity: Obtain the linear regression parameters for advertising data\n",
    "\n",
    "Steps:\n",
    "\n",
    "1- Load `Advertising.csv`\n",
    "\n",
    "2- Use `from sklearn.linear_model import LinearRegression` and `import statsmodels.formula.api as smf` \n",
    "\n",
    "3- Compare the result and sklearn with ordinary least square (OLS) from statsmodels \n",
    "\n",
    "4- Good resource for OLS: https://www.statsmodels.org/stable/regression.html"
   ]
  },
  {
   "cell_type": "code",
   "execution_count": 14,
   "metadata": {
    "slideshow": {
     "slide_type": "slide"
    }
   },
   "outputs": [
    {
     "name": "stdout",
     "output_type": "stream",
     "text": [
      "2.9388893694594085\n",
      "[ 0.04576465  0.18853002 -0.00103749]\n",
      "[12.20266701]\n"
     ]
    }
   ],
   "source": [
    "import pandas as pd\n",
    "from sklearn.linear_model import LinearRegression\n",
    "import numpy as np\n",
    "\n",
    "data = pd.read_csv('Advertising.csv')\n",
    "# create X and y\n",
    "feature_cols = ['TV', 'radio', 'newspaper']\n",
    "X = data[feature_cols]\n",
    "y = data.sales\n",
    "\n",
    "# follow the usual sklearn pattern: import, instantiate, fit\n",
    "\n",
    "lm = LinearRegression()\n",
    "lm.fit(X, y)\n",
    "\n",
    "# print intercept and coefficients\n",
    "print(lm.intercept_)\n",
    "print(lm.coef_)\n",
    "\n",
    "print(lm.predict([[100, 25, 25]]))"
   ]
  },
  {
   "cell_type": "code",
   "execution_count": 9,
   "metadata": {
    "slideshow": {
     "slide_type": "slide"
    }
   },
   "outputs": [
    {
     "data": {
      "text/plain": [
       "Intercept    2.938889\n",
       "TV           0.045765\n",
       "radio        0.188530\n",
       "newspaper   -0.001037\n",
       "dtype: float64"
      ]
     },
     "execution_count": 9,
     "metadata": {},
     "output_type": "execute_result"
    }
   ],
   "source": [
    "import statsmodels.formula.api as smf\n",
    "\n",
    "# create a fitted model with all three features\n",
    "lm = smf.ols(formula='sales ~ TV + radio + newspaper', data=data).fit()\n",
    "\n",
    "# print the coefficients\n",
    "lm.params"
   ]
  },
  {
   "cell_type": "markdown",
   "metadata": {
    "slideshow": {
     "slide_type": "slide"
    }
   },
   "source": [
    "## How to evaluate linear regression model?\n",
    "\n",
    "The linear regression model can be evaluated by :\n",
    "\n",
    "1- Mean Absolute Error (MAE)\n",
    "\n",
    "2- Mean Squared Error (MSE)\n",
    "\n",
    "3- Root Mean Squared Error (RMSE)\n",
    "\n",
    "4- R-Squared -> https://github.com/cs109/2015/blob/master/Lectures/07-BiasAndRegression.pdf\n",
    "\n",
    "Read : https://www.ritchieng.com/machine-learning-evaluate-linear-regression-model/\n",
    "\n",
    "Read: https://www.graphpad.com/guides/prism/7/curve-fitting/r2_ameasureofgoodness_of_fitoflinearregression.htm?toc=0&printWindow"
   ]
  },
  {
   "cell_type": "markdown",
   "metadata": {
    "slideshow": {
     "slide_type": "slide"
    }
   },
   "source": [
    "## Activity: For advertising data, compute the R-squared"
   ]
  },
  {
   "cell_type": "code",
   "execution_count": 5,
   "metadata": {
    "slideshow": {
     "slide_type": "slide"
    }
   },
   "outputs": [
    {
     "name": "stdout",
     "output_type": "stream",
     "text": [
      "0.6928760302783603\n",
      "0.6928760302783603\n"
     ]
    }
   ],
   "source": [
    "from sklearn.metrics import r2_score\n",
    "\n",
    "print(reg.score(X.reshape(-1, 1), Y.reshape(-1, 1)))\n",
    "print(r2_score(Y.reshape(-1, 1), reg.predict(X.reshape(-1, 1))))"
   ]
  },
  {
   "cell_type": "markdown",
   "metadata": {
    "slideshow": {
     "slide_type": "slide"
    }
   },
   "source": [
    "## Mathematics of Linear Regression\n",
    "\n",
    "### This is optional to read \n",
    "\n",
    "For linear regression, the model parameters has closed form solution. http://pillowlab.princeton.edu/teaching/mathtools16/slides/lec10_LeastSquaresRegression.pdf \n",
    "\n",
    "Assuming the error as Gaussian, Least Square (LS) is identical to Maximum Likelihood Estimate (MLE)\n",
    "\n",
    "Bonus point: Show this\n",
    "\n",
    "Solution: http://people.math.gatech.edu/~ecroot/3225/maximum_likelihood.pdf\n"
   ]
  },
  {
   "cell_type": "markdown",
   "metadata": {
    "slideshow": {
     "slide_type": "slide"
    }
   },
   "source": [
    "## Challenges \n",
    "\n",
    "https://github.com/Product-College-Courses/DS-2-Machine-Learning/blob/master/04_Regression_Techniques.ipynb"
   ]
  },
  {
   "cell_type": "markdown",
   "metadata": {
    "slideshow": {
     "slide_type": "slide"
    }
   },
   "source": [
    "## Other variations of linear regression\n",
    "\n",
    "http://scikit-learn.org/stable/modules/linear_model.html"
   ]
  }
 ],
 "metadata": {
  "celltoolbar": "Slideshow",
  "kernelspec": {
   "display_name": "Python 3",
   "language": "python",
   "name": "python3"
  },
  "language_info": {
   "codemirror_mode": {
    "name": "ipython",
    "version": 3
   },
   "file_extension": ".py",
   "mimetype": "text/x-python",
   "name": "python",
   "nbconvert_exporter": "python",
   "pygments_lexer": "ipython3",
   "version": "3.6.5"
  }
 },
 "nbformat": 4,
 "nbformat_minor": 2
}
