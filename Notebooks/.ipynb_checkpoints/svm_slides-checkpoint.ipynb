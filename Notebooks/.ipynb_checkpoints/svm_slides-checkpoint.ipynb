{
 "cells": [
  {
   "cell_type": "markdown",
   "metadata": {
    "slideshow": {
     "slide_type": "slide"
    }
   },
   "source": [
    "## Support Vector Machine\n",
    "\n",
    "SVM is a type of supervised machine learning classification algorithm\n",
    "\n",
    "In case of linearly separable data in two dimensions, a typical machine learning algorithm tries to find a line that divides the data in such a way that the misclassification error can be minimized. \n",
    "\n",
    "For higher dimension data this line would be a hyper-plane\n",
    "\n",
    "SVM chooses the decision boundary that maximizes the distance from the nearest data points of all the classes"
   ]
  },
  {
   "cell_type": "markdown",
   "metadata": {
    "slideshow": {
     "slide_type": "slide"
    }
   },
   "source": [
    "## SVM illustration on two-dimensional space  \n",
    "\n",
    "Question: which one of these show the correct decision boundary from SVM? Why?\n",
    "\n",
    "<img src=\"Images/svm_1.png\" width=\"300\" height=\"300\">"
   ]
  },
  {
   "cell_type": "markdown",
   "metadata": {
    "slideshow": {
     "slide_type": "slide"
    }
   },
   "source": [
    "## Support Vectors\n",
    "\n",
    "Support vectors are the datapoints that lie closest to the decision boundry\n",
    "\n",
    "<img src=\"Images/svm_2.png\" width=\"300\" height=\"300\">"
   ]
  },
  {
   "cell_type": "markdown",
   "metadata": {
    "slideshow": {
     "slide_type": "slide"
    }
   },
   "source": [
    "## Activity: SVM training, obtain its support vectors, visualize the decision boundary and check SVM performance\n",
    "\n",
    "Task: Follow the steps in\n",
    "\n",
    "https://people.revoledu.com/kardi/tutorial/Python/SVM+in+Python.html\n",
    "\n",
    "1- Create the dataset\n",
    "\n",
    "2- Define the SVM model as the classifier \n",
    "\n",
    "3- Fit the SVM with training dataset\n",
    "\n",
    "4- Obtain its support vectors \n",
    "\n",
    "5- Obtain the score of the trained SVM model"
   ]
  },
  {
   "cell_type": "markdown",
   "metadata": {
    "slideshow": {
     "slide_type": "slide"
    }
   },
   "source": [
    "## Handling data that is not linearly separable\n",
    "\n",
    "Based on the dataset, it is possible that can not find a line that separate the two classes\n",
    "\n",
    "Or\n",
    "\n",
    "even a curve can not easily seprate the classes. \n",
    "\n",
    "In both cases, defining a kernel or mapping the dataset to higher dimension will solve the problem.\n",
    "\n",
    "<img src=\"Images/svm_3.png\" width=\"300\" height=\"300\">\n",
    "\n",
    "\n",
    "<img src=\"Images/svm_4.png\" width=\"500\" height=\"500\">"
   ]
  },
  {
   "cell_type": "markdown",
   "metadata": {
    "slideshow": {
     "slide_type": "slide"
    }
   },
   "source": [
    "## Activity: Apply kernel to SVM\n",
    "\n",
    "Continue the second part for SVM for Non Linearly Separable Dataset\n",
    "\n",
    "Compare the classification score for linear and second order polynomial kernel for given dataset"
   ]
  },
  {
   "cell_type": "markdown",
   "metadata": {
    "slideshow": {
     "slide_type": "slide"
    }
   },
   "source": [
    "## Activity: what if the classes be unbalanced\n",
    "\n",
    "Follow the steps here:\n",
    "http://scikit-learn.org/stable/auto_examples/svm/plot_separating_hyperplane_unbalanced.html\n",
    "\n",
    "Compare the results with and without considering class balances in SVM"
   ]
  },
  {
   "cell_type": "markdown",
   "metadata": {
    "slideshow": {
     "slide_type": "slide"
    }
   },
   "source": [
    "## Kernels in SVM and their parameter\n",
    "\n",
    "Type of kernels:\n",
    "\n",
    "1- Linear\n",
    "\n",
    "2- Polynomial\n",
    "\n",
    "3- Gaussian (RBF)\n",
    "\n",
    "There are two parameters for these: gamma (for RBF only) and C (for all of them)\n",
    "\n",
    "Read this: \n",
    "https://chrisalbon.com/machine_learning/support_vector_machines/svc_parameters_using_rbf_kernel/\n",
    "\n",
    "\n"
   ]
  },
  {
   "cell_type": "markdown",
   "metadata": {
    "slideshow": {
     "slide_type": "slide"
    }
   },
   "source": [
    "# Model Parameter Selection and Cross Validation\n",
    "\n",
    "Normally in a machine learning process, data is divided into training and test sets\n",
    "\n",
    "The training set is used to train the model and the test set is used to evaluate the performance of a model\n",
    "\n",
    "Splitting the dataset to train and test, then evaluate the model result based on that would vary if change our splitting rule \n",
    "\n",
    "Question: What should we do then?\n",
    "\n",
    "Answer: divide the data into K folds. Out of the K folds, K-1 sets are used for training while the remaining set is used for testing. The result of the K-Fold Cross-Validation is the average of the results obtained on each set.\n",
    "\n",
    "In Python and Sklearn:\n",
    "\n",
    "`from sklearn.model_selection import cross_val_score  \n",
    "all_accuracies = cross_val_score(estimator=classifier, X=X_train, y=y_train, cv=5)`"
   ]
  },
  {
   "cell_type": "markdown",
   "metadata": {
    "slideshow": {
     "slide_type": "slide"
    }
   },
   "source": [
    "## Activity: Obtain the acuracy with 5-fold cross validation for iris dataset with SVM classifier "
   ]
  },
  {
   "cell_type": "markdown",
   "metadata": {
    "slideshow": {
     "slide_type": "slide"
    }
   },
   "source": [
    "## Grid Search for Parameter Selection\n",
    "\n",
    "Machine learning models have hyper-parameters. To know which values of hyper-paramaeters give the best result we need grid search\n",
    "\n",
    "Question: what does grid search mean?\n",
    "\n",
    "`from sklearn import svm, grid_search\n",
    "def svc_param_selection(X, y, nfolds):\n",
    "    Cs = [0.001, 0.01, 0.1, 1, 10]\n",
    "    gammas = [0.001, 0.01, 0.1, 1]\n",
    "    param_grid = {'C': Cs, 'gamma' : gammas}\n",
    "    grid_search = GridSearchCV(svm.SVC(kernel='rbf'), param_grid, cv=nfolds)\n",
    "    grid_search.fit(X, y)\n",
    "    return grid_search.best_params_`"
   ]
  },
  {
   "cell_type": "markdown",
   "metadata": {
    "slideshow": {
     "slide_type": "slide"
    }
   },
   "source": [
    "## Activity: Find the best C and Gamma for SVM classifier with RBF kernel for iris dataset"
   ]
  },
  {
   "cell_type": "markdown",
   "metadata": {
    "slideshow": {
     "slide_type": "slide"
    }
   },
   "source": [
    "## Model Selection\n",
    "\n",
    "This would be out of scope for SVM slide here. But for those who are interested, can read the following blog to get familiar with fitting and scoring different ML models:\n",
    "\n",
    "https://machinelearningmastery.com/compare-machine-learning-algorithms-python-scikit-learn/"
   ]
  },
  {
   "cell_type": "markdown",
   "metadata": {
    "slideshow": {
     "slide_type": "slide"
    }
   },
   "source": [
    "# Challenge and Stretch Challenge\n",
    "\n",
    "https://github.com/Product-College-Courses/DS-2-Machine-Learning/blob/master/08_Support_Vector_Machines.ipynb"
   ]
  }
 ],
 "metadata": {
  "celltoolbar": "Slideshow",
  "kernelspec": {
   "display_name": "Python 3",
   "language": "python",
   "name": "python3"
  },
  "language_info": {
   "codemirror_mode": {
    "name": "ipython",
    "version": 3
   },
   "file_extension": ".py",
   "mimetype": "text/x-python",
   "name": "python",
   "nbconvert_exporter": "python",
   "pygments_lexer": "ipython3",
   "version": "3.6.5"
  }
 },
 "nbformat": 4,
 "nbformat_minor": 2
}
